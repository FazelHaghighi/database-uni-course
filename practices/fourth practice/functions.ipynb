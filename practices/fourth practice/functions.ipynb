{
 "cells": [
  {
   "cell_type": "code",
   "execution_count": 1,
   "metadata": {},
   "outputs": [],
   "source": [
    "import psycopg2\n",
    "\n",
    "# Create a database instance and connect to the database\n",
    "db = psycopg2.connect(\n",
    "    host=\"localhost\",\n",
    "    database=\"test\",\n",
    "    user=\"postgres\",\n",
    "    password=\"1234\"\n",
    ")\n",
    "\n",
    "# Create a cursor instance\n",
    "cur = db.cursor()"
   ]
  },
  {
   "cell_type": "code",
   "execution_count": 2,
   "metadata": {},
   "outputs": [],
   "source": [
    "def create_table():\n",
    "    \"\"\"\n",
    "    Create the 'users' table if it doesn't exist.\n",
    "    \"\"\"\n",
    "    cur.execute(\n",
    "        \"\"\"\n",
    "        CREATE TABLE IF NOT EXISTS users (\n",
    "            id serial PRIMARY KEY,\n",
    "            name VARCHAR(255),\n",
    "            email VARCHAR(255)\n",
    "        )\n",
    "        \"\"\"\n",
    "    )\n",
    "    db.commit()\n",
    "\n",
    "# Create the table if it doesn't exist\n",
    "create_table()"
   ]
  },
  {
   "cell_type": "code",
   "execution_count": 3,
   "metadata": {},
   "outputs": [],
   "source": [
    "def insert_data(name, email):\n",
    "    \"\"\"\n",
    "    Insert a new row with the given name and email into the 'users' table.\n",
    "    \"\"\"\n",
    "    cur.execute(\n",
    "        \"INSERT INTO users (name, email) VALUES (%s, %s)\",\n",
    "        (name, email)\n",
    "    )\n",
    "    db.commit()\n",
    "\n",
    "# Insert data into the table\n",
    "insert_data(\"fazel\", \"fazel.2023@gmail.com\")"
   ]
  },
  {
   "cell_type": "code",
   "execution_count": 4,
   "metadata": {},
   "outputs": [
    {
     "name": "stdout",
     "output_type": "stream",
     "text": [
      "(1, 'fazel', 'fazel.2023@gmail.com')\n"
     ]
    }
   ],
   "source": [
    "def read_data(id):\n",
    "    \"\"\"\n",
    "    Read a row from the 'users' table with the given ID and print the result.\n",
    "    \"\"\"\n",
    "    cur.execute(\n",
    "        \"SELECT * FROM users WHERE id = %s\",\n",
    "        (id,)\n",
    "    )\n",
    "    row = cur.fetchone()\n",
    "    print(row)\n",
    "\n",
    "# Read data from the table\n",
    "read_data(1)"
   ]
  },
  {
   "cell_type": "code",
   "execution_count": 5,
   "metadata": {},
   "outputs": [],
   "source": [
    "def update_data(id, email):\n",
    "    \"\"\"\n",
    "    Update the email of a row in the 'users' table with the given ID.\n",
    "    \"\"\"\n",
    "    cur.execute(\n",
    "        \"UPDATE users SET email = %s WHERE id = %s\",\n",
    "        (email, id)\n",
    "    )\n",
    "    db.commit()\n",
    "\n",
    "# Update data in the table\n",
    "update_data(1, \"fazel.2024@gmail.com\")"
   ]
  },
  {
   "cell_type": "code",
   "execution_count": 6,
   "metadata": {},
   "outputs": [],
   "source": [
    "def delete_data(id):\n",
    "    \"\"\"\n",
    "    Delete a row from the 'users' table with the given ID.\n",
    "    \"\"\"\n",
    "    cur.execute(\n",
    "        \"DELETE FROM users WHERE id = %s\",\n",
    "        (id,)\n",
    "    )\n",
    "    db.commit()\n",
    "\n",
    "# Delete data from the table\n",
    "delete_data(1)"
   ]
  }
 ],
 "metadata": {
  "kernelspec": {
   "display_name": "Python 3",
   "language": "python",
   "name": "python3"
  },
  "language_info": {
   "codemirror_mode": {
    "name": "ipython",
    "version": 3
   },
   "file_extension": ".py",
   "mimetype": "text/x-python",
   "name": "python",
   "nbconvert_exporter": "python",
   "pygments_lexer": "ipython3",
   "version": "3.10.6"
  },
  "orig_nbformat": 4
 },
 "nbformat": 4,
 "nbformat_minor": 2
}
